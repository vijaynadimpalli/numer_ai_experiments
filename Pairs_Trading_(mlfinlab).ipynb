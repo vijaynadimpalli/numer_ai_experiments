{
  "nbformat": 4,
  "nbformat_minor": 0,
  "metadata": {
    "colab": {
      "name": "Pairs Trading (mlfinlab).ipynb",
      "provenance": [],
      "collapsed_sections": [],
      "authorship_tag": "ABX9TyNtuTYpfMM1V15Sv8u5h/KL",
      "include_colab_link": true
    },
    "kernelspec": {
      "name": "python3",
      "display_name": "Python 3"
    }
  },
  "cells": [
    {
      "cell_type": "markdown",
      "metadata": {
        "id": "view-in-github",
        "colab_type": "text"
      },
      "source": [
        "<a href=\"https://colab.research.google.com/github/vijaynadimpalli/numer_ai_experiments/blob/master/Pairs_Trading_(mlfinlab).ipynb\" target=\"_parent\"><img src=\"https://colab.research.google.com/assets/colab-badge.svg\" alt=\"Open In Colab\"/></a>"
      ]
    },
    {
      "cell_type": "code",
      "metadata": {
        "id": "1vlsQ9Yr9kFk",
        "colab": {
          "base_uri": "https://localhost:8080/"
        },
        "outputId": "9f3a8288-af83-47b9-fb89-9b61fbda5d4b"
      },
      "source": [
        "import shutil\n",
        "from sklearn.preprocessing import StandardScaler\n",
        "from sklearn.decomposition import PCA\n",
        "from sklearn.cluster import OPTICS\n",
        "from sklearn.linear_model import LinearRegression\n",
        "from statsmodels.tsa.stattools import coint\n",
        "!pip install hurst\n",
        "from hurst import compute_Hc\n",
        "import numpy as np\n",
        "import seaborn as sns\n",
        "import pandas as pd\n",
        "import matplotlib.pyplot as plt"
      ],
      "execution_count": null,
      "outputs": [
        {
          "output_type": "stream",
          "text": [
            "/usr/local/lib/python3.6/dist-packages/statsmodels/tools/_testing.py:19: FutureWarning: pandas.util.testing is deprecated. Use the functions in the public API at pandas.testing instead.\n",
            "  import pandas.util.testing as tm\n"
          ],
          "name": "stderr"
        },
        {
          "output_type": "stream",
          "text": [
            "Collecting hurst\n",
            "  Downloading https://files.pythonhosted.org/packages/02/4f/d3471ce0dca03a21d4c6640da07a6040c9cc800a937233086b6cea6a7dc2/hurst-0.0.5-py3-none-any.whl\n",
            "Requirement already satisfied: pandas>=0.18 in /usr/local/lib/python3.6/dist-packages (from hurst) (1.1.5)\n",
            "Requirement already satisfied: numpy>=1.10 in /usr/local/lib/python3.6/dist-packages (from hurst) (1.19.5)\n",
            "Requirement already satisfied: pytz>=2017.2 in /usr/local/lib/python3.6/dist-packages (from pandas>=0.18->hurst) (2018.9)\n",
            "Requirement already satisfied: python-dateutil>=2.7.3 in /usr/local/lib/python3.6/dist-packages (from pandas>=0.18->hurst) (2.8.1)\n",
            "Requirement already satisfied: six>=1.5 in /usr/local/lib/python3.6/dist-packages (from python-dateutil>=2.7.3->pandas>=0.18->hurst) (1.15.0)\n",
            "Installing collected packages: hurst\n",
            "Successfully installed hurst-0.0.5\n"
          ],
          "name": "stdout"
        }
      ]
    },
    {
      "cell_type": "code",
      "metadata": {
        "id": "x5EW18nEbjoC",
        "colab": {
          "base_uri": "https://localhost:8080/",
          "height": 153
        },
        "outputId": "6e478290-514e-4a35-98c3-376cf24e482a"
      },
      "source": [
        "!git clone https://github.com/hudson-and-thames/oct_applications.git\n",
        "\n",
        "shutil.copy('/content/oct_applications/aarondeb/data/data.csv','.')"
      ],
      "execution_count": null,
      "outputs": [
        {
          "output_type": "stream",
          "text": [
            "Cloning into 'oct_applications'...\n",
            "remote: Enumerating objects: 36, done.\u001b[K\n",
            "remote: Counting objects: 100% (36/36), done.\u001b[K\n",
            "remote: Compressing objects: 100% (34/34), done.\u001b[K\n",
            "remote: Total 183 (delta 8), reused 25 (delta 2), pack-reused 147\u001b[K\n",
            "Receiving objects: 100% (183/183), 54.15 MiB | 19.50 MiB/s, done.\n",
            "Resolving deltas: 100% (48/48), done.\n"
          ],
          "name": "stdout"
        },
        {
          "output_type": "execute_result",
          "data": {
            "application/vnd.google.colaboratory.intrinsic+json": {
              "type": "string"
            },
            "text/plain": [
              "'./data.csv'"
            ]
          },
          "metadata": {
            "tags": []
          },
          "execution_count": 2
        }
      ]
    },
    {
      "cell_type": "code",
      "metadata": {
        "id": "VDnWmT4M_4Rr"
      },
      "source": [
        "class PairSelector():\n",
        "  def __init__(self,stocks):\n",
        "\n",
        "    if stocks is None:\n",
        "      raise Exception(\"Empty dataset recieved\")\n",
        "    if not isinstance(stocks,pd.DataFrame):\n",
        "      raise Exception(\"Not a DataFrame\")\n",
        "\n",
        "    self.data = stocks\n",
        "    self.pairs = []\n",
        "\n",
        "  def pairs_checks(self):\n",
        "    self.max_cluster = self.clusters['cluster_ID'].max()\n",
        "\n",
        "    self.clust_data = pd.concat([self.reduced_data,self.clusters],axis=1)\n",
        "    self.clust_data = self.clust_data.set_index([self.clust_data['cluster_ID'],self.clust_data.index]).drop(['cluster_ID'],axis=1)\n",
        "\n",
        "    for ind in range(self.max_cluster + 1):\n",
        "      cluster = self.clust_data.loc[ind,:]\n",
        "      for pair in self.get_pairs(cluster.index):\n",
        "\n",
        "        #Step 1\n",
        "        pair,checker = self.check_coint(pair)\n",
        "        if checker is False:\n",
        "          continue\n",
        "\n",
        "        #Step 2,3 and 4\n",
        "        try:\n",
        "          checker = self.spread_calcs(pair)\n",
        "        except FloatingPointError:\n",
        "          print(f\"Divide by zero for pair : {pair}\")      \n",
        "          checker = False\n",
        "\n",
        "        if checker is False:\n",
        "          continue\n",
        "\n",
        "        self.pairs.append(pair)\n",
        "\n",
        "    print(self.pairs)\n",
        "\n",
        "  \n",
        "  # def plot_pairs(self):\n",
        "  #   for\n",
        "   \n",
        "\n",
        "\n",
        "  def cluster_algo(self):\n",
        "    self.clusters = OPTICS().fit(self.reduced_data).labels_\n",
        "    self.clusters = pd.DataFrame(self.clusters,self.reduced_data.index,columns=['cluster_ID'])\n",
        "\n",
        "  \n",
        "  def plot_pca_matrix(self):\n",
        "    pd.plotting.scatter_matrix(self.reduced_data)\n",
        "\n",
        "  def dimension_reduction(self,n_dims=10):\n",
        "    self.returns = self.data\n",
        "\n",
        "    self.returns = (self.data - self.data.shift(1))/self.data.shift(1)\n",
        "    self.returns.replace([np.inf,-np.inf],[np.nan,np.nan],inplace=True)\n",
        "    self.returns.dropna(inplace=True)\n",
        "\n",
        "    scaler = StandardScaler()\n",
        "    self.returns = pd.DataFrame(scaler.fit_transform(self.returns))\n",
        "    pca = PCA(n_dims)\n",
        "    pca.fit(self.returns)\n",
        "\n",
        "    self.reduced_data = pd.DataFrame(pca.components_)    \n",
        "    self.reduced_data.columns = self.data.columns\n",
        "    self.reduced_data = self.reduced_data.T\n",
        "\n",
        "  @staticmethod\n",
        "  def get_pairs(tickers):\n",
        "    for i in range(len(tickers)):\n",
        "      for j in range(i+1,len(tickers)):\n",
        "        yield (tickers[i],tickers[j])\n",
        "\n",
        "\n",
        "  def check_coint(self,pair):\n",
        "    t_1,p_1,_ = coint(self.data[pair[0]],self.data[pair[1]])\n",
        "    t_2,p_2,_ = coint(self.data[pair[1]],self.data[pair[0]])\n",
        "\n",
        "    if p_1 > 0.05 and p_2 > 0.05:\n",
        "      return (pair,False)\n",
        "\n",
        "    ret_pair = None\n",
        "    if p_1 <= 0.05:\n",
        "      ret_pair = pair\n",
        "\n",
        "    if p_2 <= 0.05 and ret_pair is not None and t_2 < t_1:\n",
        "      ret_pair = (pair[1],pair[0])\n",
        "\n",
        "    if ret_pair is None:\n",
        "      ret_pair = (pair[1],pair[0])\n",
        "\n",
        "    return (ret_pair,True)\n",
        "\n",
        "\n",
        "  def spread_calcs(self,pair):  \n",
        "    #Step 2\n",
        "    spread = (self.data[pair[0]] - self.data[pair[1]]) \n",
        "    H, c, _ = compute_Hc(spread, kind='price', simplified=False)\n",
        "    if H >= 0.5:\n",
        "      return False\n",
        "\n",
        "    #Step3\n",
        "    spread_np = spread.values.reshape(-1,1)\n",
        "    spread_lag = spread_np[:-1]\n",
        "    spread_ret = spread_np[1:] - spread_lag\n",
        "\n",
        "    lm = LinearRegression().fit(spread_ret,spread_lag)\n",
        "    halflife = -np.log(2) / lm.coef_[0,0]\n",
        "    if halflife < 1.0 or halflife > 250.0:\n",
        "      return False\n",
        "\n",
        "    #Step 4\n",
        "    spread_mean = spread.rolling(window=30).mean()[30:]\n",
        "    spread = spread[30:]\n",
        "    count_crossing = 0\n",
        "    for ind,_ in enumerate(spread_mean[1:]):\n",
        "      if (spread_mean[ind] >= spread[ind] and spread_mean[ind-1] < spread[ind-1]) or (spread_mean[ind] <= spread[ind] and spread_mean[ind-1] > spread[ind-1]):\n",
        "        count_crossing += 1\n",
        "    \n",
        "    if count_crossing * 252.0 / len(spread) < 12.0:\n",
        "      return False\n",
        "\n",
        "    return True"
      ],
      "execution_count": null,
      "outputs": []
    },
    {
      "cell_type": "code",
      "metadata": {
        "id": "qv5zkAcw9_ZH",
        "colab": {
          "base_uri": "https://localhost:8080/"
        },
        "outputId": "d59bc9fc-559a-46cd-df24-1e7c34403b6f"
      },
      "source": [
        "df = pd.read_csv(\"data.csv\",parse_dates=True,index_col='Date').dropna()\n",
        "\n",
        "pairs = PairSelector(df)\n",
        "\n",
        "pairs.dimension_reduction(10)\n",
        "\n",
        "pairs.cluster_algo()\n",
        "\n",
        "pairs.pairs_checks()"
      ],
      "execution_count": null,
      "outputs": [
        {
          "output_type": "stream",
          "text": [
            "Divide by zero for pair : ('MDLZ', 'CHD')\n",
            "[('LH', 'UNH'), ('QRVO', 'AAPL'), ('AMAT', 'MCHP'), ('MDT', 'EW'), ('EW', 'ZTS'), ('SYK', 'IQV'), ('FITB', 'TFC'), ('LNT', 'CMS'), ('PEP', 'MDLZ')]\n"
          ],
          "name": "stdout"
        }
      ]
    },
    {
      "cell_type": "code",
      "metadata": {
        "id": "j4u96s_2Aqgb"
      },
      "source": [
        "#pairs.plot_pairs()"
      ],
      "execution_count": null,
      "outputs": []
    },
    {
      "cell_type": "code",
      "metadata": {
        "id": "a5buB-RCiNtC"
      },
      "source": [
        "import numpy as np\n",
        "import pandas as pd\n",
        "import matplotlib.pyplot as plt"
      ],
      "execution_count": null,
      "outputs": []
    },
    {
      "cell_type": "code",
      "metadata": {
        "id": "0lLaL3Bxj3BZ"
      },
      "source": [
        "np.random.seed(42)"
      ],
      "execution_count": null,
      "outputs": []
    },
    {
      "cell_type": "code",
      "metadata": {
        "colab": {
          "base_uri": "https://localhost:8080/",
          "height": 282
        },
        "id": "e-Uq-9H-iWjv",
        "outputId": "846d04fc-192d-4b1f-eedb-c3a21c40fdf9"
      },
      "source": [
        "ts = np.random.randn(1000).cumsum()\n",
        "plt.plot(ts)"
      ],
      "execution_count": null,
      "outputs": [
        {
          "output_type": "execute_result",
          "data": {
            "text/plain": [
              "[<matplotlib.lines.Line2D at 0x7ffb5ff27dd8>]"
            ]
          },
          "metadata": {
            "tags": []
          },
          "execution_count": 27
        },
        {
          "output_type": "display_data",
          "data": {
            "image/png": "[encoded data removed]",
            "text/plain": [
              "<Figure size 432x288 with 1 Axes>"
            ]
          },
          "metadata": {
            "tags": [],
            "needs_background": "light"
          }
        }
      ]
    },
    {
      "cell_type": "code",
      "metadata": {
        "id": "Dy9KgcxijjZ-"
      },
      "source": [
        "from sklearn.linear_model import LinearRegression\n",
        "\n",
        "def get_hurst(ts):\n",
        "\n",
        "  if not isinstance(ts,pd.Series):\n",
        "    ts = pd.Series(ts)\n",
        "\n",
        "  n = len(ts)\n",
        "  mean = ts.mean()\n",
        "  y = ts - mean\n",
        "  z = y.expanding().sum()\n",
        "  r  = z.expanding().max() - z.expanding().min()\n",
        "\n",
        "  s = ts.expanding().std()\n",
        "\n",
        "  rs = r/s\n",
        "\n",
        "  return LinearRegression().fit(np.log())"
      ],
      "execution_count": null,
      "outputs": []
    },
    {
      "cell_type": "code",
      "metadata": {
        "id": "Jh2_U1N_kzfU"
      },
      "source": [
        "get_hurst(ts)"
      ],
      "execution_count": null,
      "outputs": []
    },
    {
      "cell_type": "code",
      "metadata": {
        "id": "jsqFEdKqm_CC"
      },
      "source": [
        "temp = np.arange(1,100,1).reshape(-1,1)\n",
        "\n",
        "model = LinearRegression().fit(temp,temp*2)\n",
        "\n",
        "\n",
        "\n",
        "\n"
      ],
      "execution_count": null,
      "outputs": []
    },
    {
      "cell_type": "code",
      "metadata": {
        "colab": {
          "base_uri": "https://localhost:8080/"
        },
        "id": "Laxxh9wEnnlQ",
        "outputId": "a06ad57b-9021-48b1-cbe8-b78cb0f32aa6"
      },
      "source": [
        "model.coef_[0,0]"
      ],
      "execution_count": null,
      "outputs": [
        {
          "output_type": "execute_result",
          "data": {
            "text/plain": [
              "2.0000000000000004"
            ]
          },
          "metadata": {
            "tags": []
          },
          "execution_count": 39
        }
      ]
    },
    {
      "cell_type": "code",
      "metadata": {
        "colab": {
          "base_uri": "https://localhost:8080/",
          "height": 1000
        },
        "id": "V9CVcYHwn6iV",
        "outputId": "33a89ebc-7331-441d-fae0-e91564ae6a2b"
      },
      "source": [
        "!pip install mlfinlab"
      ],
      "execution_count": null,
      "outputs": [
        {
          "output_type": "stream",
          "text": [
            "Collecting mlfinlab\n",
            "\u001b[?25l  Downloading https://files.pythonhosted.org/packages/01/52/81c7ee29a4314bffc4f61694a987eca48b36bdf8571877156188e1148eae/mlfinlab-0.15.3-py3-none-any.whl (982kB)\n",
            "\u001b[K     |████████████████████████████████| 983kB 4.1MB/s \n",
            "\u001b[?25hCollecting scikit-learn==0.23.1\n",
            "\u001b[?25l  Downloading https://files.pythonhosted.org/packages/d9/3a/eb8d7bbe28f4787d140bb9df685b7d5bf6115c0e2a969def4027144e98b6/scikit_learn-0.23.1-cp36-cp36m-manylinux1_x86_64.whl (6.8MB)\n",
            "\u001b[K     |████████████████████████████████| 6.9MB 12.0MB/s \n",
            "\u001b[?25hCollecting dash-bootstrap-components==0.10.3\n",
            "\u001b[?25l  Downloading https://files.pythonhosted.org/packages/da/09/9f100586edd1605409c9be8a8d1eabd5cfd1b4a7b842e2761e9c44eedd89/dash-bootstrap-components-0.10.3.tar.gz (107kB)\n",
            "\u001b[K     |████████████████████████████████| 112kB 38.7MB/s \n",
            "\u001b[?25h  Installing build dependencies ... \u001b[?25l\u001b[?25hdone\n",
            "  Getting requirements to build wheel ... \u001b[?25l\u001b[?25hdone\n",
            "    Preparing wheel metadata ... \u001b[?25l\u001b[?25hdone\n",
            "Collecting pandas==1.0.4\n",
            "\u001b[?25l  Downloading https://files.pythonhosted.org/packages/8e/86/c14387d6813ebadb7bf61b9ad270ffff111c8b587e4d266e07de774e385e/pandas-1.0.4-cp36-cp36m-manylinux1_x86_64.whl (10.1MB)\n",
            "\u001b[K     |████████████████████████████████| 10.1MB 34.9MB/s \n",
            "\u001b[?25hCollecting dash==1.14.0\n",
            "\u001b[?25l  Downloading https://files.pythonhosted.org/packages/1d/d1/191ad32bd9e6d10b2fc0f5d31e9e6a85fdb2642088658f75817d67bdeaea/dash-1.14.0.tar.gz (70kB)\n",
            "\u001b[K     |████████████████████████████████| 71kB 7.2MB/s \n",
            "\u001b[?25hCollecting jupyter-dash==0.3.1\n",
            "\u001b[?25l  Downloading https://files.pythonhosted.org/packages/b9/b9/5f9499a0154124a262c85e3a99033b9b3a20dc3d2707b587f52b32b60d76/jupyter_dash-0.3.1-py3-none-any.whl (49kB)\n",
            "\u001b[K     |████████████████████████████████| 51kB 5.8MB/s \n",
            "\u001b[?25hCollecting matplotlib==3.2.1\n",
            "\u001b[?25l  Downloading https://files.pythonhosted.org/packages/93/4b/52da6b1523d5139d04e02d9e26ceda6146b48f2a4e5d2abfdf1c7bac8c40/matplotlib-3.2.1-cp36-cp36m-manylinux1_x86_64.whl (12.4MB)\n",
            "\u001b[K     |████████████████████████████████| 12.4MB 183kB/s \n",
            "\u001b[?25hRequirement already satisfied: cython==0.29.21 in /usr/local/lib/python3.6/dist-packages (from mlfinlab) (0.29.21)\n",
            "Collecting numpy==1.18.5\n",
            "\u001b[?25l  Downloading https://files.pythonhosted.org/packages/b3/a9/b1bc4c935ed063766bce7d3e8c7b20bd52e515ff1c732b02caacf7918e5a/numpy-1.18.5-cp36-cp36m-manylinux1_x86_64.whl (20.1MB)\n",
            "\u001b[K     |████████████████████████████████| 20.1MB 1.2MB/s \n",
            "\u001b[?25hCollecting POT==0.7.0\n",
            "\u001b[?25l  Downloading https://files.pythonhosted.org/packages/f8/22/67658e4b227fc52ce1c9bca522dfb3f0cc29a3536d1c7499feb3b0042a41/POT-0.7.0-cp36-cp36m-manylinux2010_x86_64.whl (428kB)\n",
            "\u001b[K     |████████████████████████████████| 430kB 46.7MB/s \n",
            "\u001b[?25hCollecting dash-cytoscape==0.2.0\n",
            "\u001b[?25l  Downloading https://files.pythonhosted.org/packages/a1/98/93b356b47aca71d4fb1065990137b6b75eb527e8d1cd0e87dc037cead113/dash_cytoscape-0.2.0.tar.gz (3.6MB)\n",
            "\u001b[K     |████████████████████████████████| 3.6MB 51.1MB/s \n",
            "\u001b[?25hCollecting networkx==2.4\n",
            "\u001b[?25l  Downloading https://files.pythonhosted.org/packages/41/8f/dd6a8e85946def36e4f2c69c84219af0fa5e832b018c970e92f2ad337e45/networkx-2.4-py3-none-any.whl (1.6MB)\n",
            "\u001b[K     |████████████████████████████████| 1.6MB 46.3MB/s \n",
            "\u001b[?25hCollecting getmac==0.8.2\n",
            "  Downloading https://files.pythonhosted.org/packages/30/69/73ce4e89c5444dea22b490d70ba4bccef4877691904dd211019fda765b35/getmac-0.8.2-py2.py3-none-any.whl\n",
            "Collecting cvxpy==1.1.1\n",
            "\u001b[?25l  Downloading https://files.pythonhosted.org/packages/fa/89/6e4f99b36ce2d002f2792529b130fd8ed5d7004c92ce8ae7d56496f51426/cvxpy-1.1.1.tar.gz (990kB)\n",
            "\u001b[K     |████████████████████████████████| 993kB 47.7MB/s \n",
            "\u001b[?25h  Installing build dependencies ... \u001b[?25l\u001b[?25hdone\n",
            "  Getting requirements to build wheel ... \u001b[?25l\u001b[?25hdone\n",
            "    Preparing wheel metadata ... \u001b[?25l\u001b[?25hdone\n",
            "Collecting statsmodels==0.11.1\n",
            "\u001b[?25l  Downloading https://files.pythonhosted.org/packages/cb/83/540fd83238a18abe6c2d280fa8e489ac5fcefa1f370f0ca1acd16ae1b860/statsmodels-0.11.1-cp36-cp36m-manylinux1_x86_64.whl (8.7MB)\n",
            "\u001b[K     |████████████████████████████████| 8.7MB 36.2MB/s \n",
            "\u001b[?25hCollecting numba==0.49.1\n",
            "\u001b[?25l  Downloading https://files.pythonhosted.org/packages/56/dc/0e3d3732fd62c73fbb3317fc7bba22574832ab7a8e075620557bd4311641/numba-0.49.1-cp36-cp36m-manylinux2014_x86_64.whl (3.6MB)\n",
            "\u001b[K     |████████████████████████████████| 3.6MB 48.8MB/s \n",
            "\u001b[?25hCollecting tensorflow==2.2.1\n",
            "\u001b[?25l  Downloading https://files.pythonhosted.org/packages/70/e3/663eac537202dee730ad6e61769fc3ebce92a6085dbfd13ca902df5f1477/tensorflow-2.2.1-cp36-cp36m-manylinux2010_x86_64.whl (516.2MB)\n",
            "\u001b[K     |████████████████████████████████| 516.2MB 31kB/s \n",
            "\u001b[?25hRequirement already satisfied: scipy==1.4.1 in /usr/local/lib/python3.6/dist-packages (from mlfinlab) (1.4.1)\n",
            "Collecting analytics-python==1.2.9\n",
            "  Downloading https://files.pythonhosted.org/packages/d3/37/c49d052f88655cd96445c36979fb63f69ef859e167eaff5706ca7c8a8ee3/analytics_python-1.2.9-py2.py3-none-any.whl\n",
            "Requirement already satisfied: joblib>=0.11 in /usr/local/lib/python3.6/dist-packages (from scikit-learn==0.23.1->mlfinlab) (1.0.0)\n",
            "Collecting threadpoolctl>=2.0.0\n",
            "  Downloading https://files.pythonhosted.org/packages/f7/12/ec3f2e203afa394a149911729357aa48affc59c20e2c1c8297a60f33f133/threadpoolctl-2.1.0-py3-none-any.whl\n",
            "Requirement already satisfied: python-dateutil>=2.6.1 in /usr/local/lib/python3.6/dist-packages (from pandas==1.0.4->mlfinlab) (2.8.1)\n",
            "Requirement already satisfied: pytz>=2017.2 in /usr/local/lib/python3.6/dist-packages (from pandas==1.0.4->mlfinlab) (2018.9)\n",
            "Requirement already satisfied: Flask>=1.0.2 in /usr/local/lib/python3.6/dist-packages (from dash==1.14.0->mlfinlab) (1.1.2)\n",
            "Collecting flask-compress\n",
            "  Downloading https://files.pythonhosted.org/packages/b2/7a/9c4641f975fb9daaf945dc39da6a52fd5693ab3bbc2d53780eab3b5106f4/Flask_Compress-1.8.0-py3-none-any.whl\n",
            "Requirement already satisfied: plotly in /usr/local/lib/python3.6/dist-packages (from dash==1.14.0->mlfinlab) (4.4.1)\n",
            "Collecting dash_renderer==1.6.0\n",
            "\u001b[?25l  Downloading https://files.pythonhosted.org/packages/da/a6/ddbcd01c638a2c235bfe13fd75155b344c7b7ab1c6466fe6d46b159897ad/dash_renderer-1.6.0.tar.gz (1.2MB)\n",
            "\u001b[K     |████████████████████████████████| 1.2MB 47.8MB/s \n",
            "\u001b[?25hCollecting dash-core-components==1.10.2\n",
            "\u001b[?25l  Downloading https://files.pythonhosted.org/packages/ee/74/f961bb01aa015b76c60045cf8ad5d9eb2279656f4483b42750ec3b925c9c/dash_core_components-1.10.2.tar.gz (3.4MB)\n",
            "\u001b[K     |████████████████████████████████| 3.4MB 39.2MB/s \n",
            "\u001b[?25hCollecting dash-html-components==1.0.3\n",
            "\u001b[?25l  Downloading https://files.pythonhosted.org/packages/da/20/46714ae501ccf16e5e37ca160c06e27347d19889687454168730e6744cdc/dash_html_components-1.0.3.tar.gz (187kB)\n",
            "\u001b[K     |████████████████████████████████| 194kB 52.4MB/s \n",
            "\u001b[?25hCollecting dash-table==4.9.0\n",
            "\u001b[?25l  Downloading https://files.pythonhosted.org/packages/54/9f/11347b397b840b67481f6ecadefb64de0b57d199752d5e182161a4217f1d/dash_table-4.9.0.tar.gz (1.8MB)\n",
            "\u001b[K     |████████████████████████████████| 1.8MB 43.9MB/s \n",
            "\u001b[?25hRequirement already satisfied: future in /usr/local/lib/python3.6/dist-packages (from dash==1.14.0->mlfinlab) (0.16.0)\n",
            "Requirement already satisfied: ipython in /usr/local/lib/python3.6/dist-packages (from jupyter-dash==0.3.1->mlfinlab) (5.5.0)\n",
            "Requirement already satisfied: ipykernel in /usr/local/lib/python3.6/dist-packages (from jupyter-dash==0.3.1->mlfinlab) (4.10.1)\n",
            "Collecting ansi2html\n",
            "  Downloading https://files.pythonhosted.org/packages/c6/85/3a46be84afbb16b392a138cd396117f438c7b2e91d8dc327621d1ae1b5dc/ansi2html-1.6.0-py3-none-any.whl\n",
            "Requirement already satisfied: requests in /usr/local/lib/python3.6/dist-packages (from jupyter-dash==0.3.1->mlfinlab) (2.23.0)\n",
            "Requirement already satisfied: retrying in /usr/local/lib/python3.6/dist-packages (from jupyter-dash==0.3.1->mlfinlab) (1.3.3)\n",
            "Requirement already satisfied: pyparsing!=2.0.4,!=2.1.2,!=2.1.6,>=2.0.1 in /usr/local/lib/python3.6/dist-packages (from matplotlib==3.2.1->mlfinlab) (2.4.7)\n",
            "Requirement already satisfied: cycler>=0.10 in /usr/local/lib/python3.6/dist-packages (from matplotlib==3.2.1->mlfinlab) (0.10.0)\n",
            "Requirement already satisfied: kiwisolver>=1.0.1 in /usr/local/lib/python3.6/dist-packages (from matplotlib==3.2.1->mlfinlab) (1.3.1)\n",
            "Requirement already satisfied: decorator>=4.3.0 in /usr/local/lib/python3.6/dist-packages (from networkx==2.4->mlfinlab) (4.4.2)\n",
            "Requirement already satisfied: scs>=1.1.3 in /usr/local/lib/python3.6/dist-packages (from cvxpy==1.1.1->mlfinlab) (2.1.2)\n",
            "Requirement already satisfied: osqp>=0.4.1 in /usr/local/lib/python3.6/dist-packages (from cvxpy==1.1.1->mlfinlab) (0.6.2.post0)\n",
            "Requirement already satisfied: ecos>=2 in /usr/local/lib/python3.6/dist-packages (from cvxpy==1.1.1->mlfinlab) (2.0.7.post1)\n",
            "Requirement already satisfied: patsy>=0.5 in /usr/local/lib/python3.6/dist-packages (from statsmodels==0.11.1->mlfinlab) (0.5.1)\n",
            "Collecting llvmlite<=0.33.0.dev0,>=0.31.0.dev0\n",
            "\u001b[?25l  Downloading https://files.pythonhosted.org/packages/1c/fd/d029b53b19200a2b98bed69ba0354b37c236b44a93b34b3075c4aaab2d03/llvmlite-0.32.1-cp36-cp36m-manylinux1_x86_64.whl (20.2MB)\n",
            "\u001b[K     |████████████████████████████████| 20.2MB 1.3MB/s \n",
            "\u001b[?25hRequirement already satisfied: setuptools in /usr/local/lib/python3.6/dist-packages (from numba==0.49.1->mlfinlab) (53.0.0)\n",
            "Requirement already satisfied: wheel>=0.26; python_version >= \"3\" in /usr/local/lib/python3.6/dist-packages (from tensorflow==2.2.1->mlfinlab) (0.36.2)\n",
            "Requirement already satisfied: google-pasta>=0.1.8 in /usr/local/lib/python3.6/dist-packages (from tensorflow==2.2.1->mlfinlab) (0.2.0)\n",
            "Requirement already satisfied: protobuf>=3.8.0 in /usr/local/lib/python3.6/dist-packages (from tensorflow==2.2.1->mlfinlab) (3.12.4)\n",
            "Requirement already satisfied: termcolor>=1.1.0 in /usr/local/lib/python3.6/dist-packages (from tensorflow==2.2.1->mlfinlab) (1.1.0)\n",
            "Requirement already satisfied: gast==0.3.3 in /usr/local/lib/python3.6/dist-packages (from tensorflow==2.2.1->mlfinlab) (0.3.3)\n",
            "Requirement already satisfied: grpcio>=1.8.6 in /usr/local/lib/python3.6/dist-packages (from tensorflow==2.2.1->mlfinlab) (1.32.0)\n",
            "Requirement already satisfied: wrapt>=1.11.1 in /usr/local/lib/python3.6/dist-packages (from tensorflow==2.2.1->mlfinlab) (1.12.1)\n",
            "Collecting tensorflow-estimator<2.3.0,>=2.2.0\n",
            "\u001b[?25l  Downloading https://files.pythonhosted.org/packages/a4/f5/926ae53d6a226ec0fda5208e0e581cffed895ccc89e36ba76a8e60895b78/tensorflow_estimator-2.2.0-py2.py3-none-any.whl (454kB)\n",
            "\u001b[K     |████████████████████████████████| 460kB 52.5MB/s \n",
            "\u001b[?25hRequirement already satisfied: opt-einsum>=2.3.2 in /usr/local/lib/python3.6/dist-packages (from tensorflow==2.2.1->mlfinlab) (3.3.0)\n",
            "Requirement already satisfied: h5py<2.11.0,>=2.10.0 in /usr/local/lib/python3.6/dist-packages (from tensorflow==2.2.1->mlfinlab) (2.10.0)\n",
            "Requirement already satisfied: keras-preprocessing>=1.1.0 in /usr/local/lib/python3.6/dist-packages (from tensorflow==2.2.1->mlfinlab) (1.1.2)\n",
            "Collecting tensorboard<2.3.0,>=2.2.0\n",
            "\u001b[?25l  Downloading https://files.pythonhosted.org/packages/1d/74/0a6fcb206dcc72a6da9a62dd81784bfdbff5fedb099982861dc2219014fb/tensorboard-2.2.2-py3-none-any.whl (3.0MB)\n",
            "\u001b[K     |████████████████████████████████| 3.0MB 50.9MB/s \n",
            "\u001b[?25hRequirement already satisfied: astunparse==1.6.3 in /usr/local/lib/python3.6/dist-packages (from tensorflow==2.2.1->mlfinlab) (1.6.3)\n",
            "Requirement already satisfied: absl-py>=0.7.0 in /usr/local/lib/python3.6/dist-packages (from tensorflow==2.2.1->mlfinlab) (0.10.0)\n",
            "Requirement already satisfied: six>=1.12.0 in /usr/local/lib/python3.6/dist-packages (from tensorflow==2.2.1->mlfinlab) (1.15.0)\n",
            "Requirement already satisfied: Werkzeug>=0.15 in /usr/local/lib/python3.6/dist-packages (from Flask>=1.0.2->dash==1.14.0->mlfinlab) (1.0.1)\n",
            "Requirement already satisfied: click>=5.1 in /usr/local/lib/python3.6/dist-packages (from Flask>=1.0.2->dash==1.14.0->mlfinlab) (7.1.2)\n",
            "Requirement already satisfied: Jinja2>=2.10.1 in /usr/local/lib/python3.6/dist-packages (from Flask>=1.0.2->dash==1.14.0->mlfinlab) (2.11.3)\n",
            "Requirement already satisfied: itsdangerous>=0.24 in /usr/local/lib/python3.6/dist-packages (from Flask>=1.0.2->dash==1.14.0->mlfinlab) (1.1.0)\n",
            "Collecting brotli\n",
            "\u001b[?25l  Downloading https://files.pythonhosted.org/packages/b4/d3/7c98f05b7b9103e2f3a112ba42f269c798155b3e5404fb80bb8f823aaebe/Brotli-1.0.9-cp36-cp36m-manylinux1_x86_64.whl (357kB)\n",
            "\u001b[K     |████████████████████████████████| 358kB 50.9MB/s \n",
            "\u001b[?25hRequirement already satisfied: traitlets>=4.2 in /usr/local/lib/python3.6/dist-packages (from ipython->jupyter-dash==0.3.1->mlfinlab) (4.3.3)\n",
            "Requirement already satisfied: pygments in /usr/local/lib/python3.6/dist-packages (from ipython->jupyter-dash==0.3.1->mlfinlab) (2.6.1)\n",
            "Requirement already satisfied: pexpect; sys_platform != \"win32\" in /usr/local/lib/python3.6/dist-packages (from ipython->jupyter-dash==0.3.1->mlfinlab) (4.8.0)\n",
            "Requirement already satisfied: pickleshare in /usr/local/lib/python3.6/dist-packages (from ipython->jupyter-dash==0.3.1->mlfinlab) (0.7.5)\n",
            "Requirement already satisfied: simplegeneric>0.8 in /usr/local/lib/python3.6/dist-packages (from ipython->jupyter-dash==0.3.1->mlfinlab) (0.8.1)\n",
            "Requirement already satisfied: prompt-toolkit<2.0.0,>=1.0.4 in /usr/local/lib/python3.6/dist-packages (from ipython->jupyter-dash==0.3.1->mlfinlab) (1.0.18)\n",
            "Requirement already satisfied: tornado>=4.0 in /usr/local/lib/python3.6/dist-packages (from ipykernel->jupyter-dash==0.3.1->mlfinlab) (5.1.1)\n",
            "Requirement already satisfied: jupyter-client in /usr/local/lib/python3.6/dist-packages (from ipykernel->jupyter-dash==0.3.1->mlfinlab) (5.3.5)\n",
            "Requirement already satisfied: chardet<4,>=3.0.2 in /usr/local/lib/python3.6/dist-packages (from requests->jupyter-dash==0.3.1->mlfinlab) (3.0.4)\n",
            "Requirement already satisfied: certifi>=2017.4.17 in /usr/local/lib/python3.6/dist-packages (from requests->jupyter-dash==0.3.1->mlfinlab) (2020.12.5)\n",
            "Requirement already satisfied: idna<3,>=2.5 in /usr/local/lib/python3.6/dist-packages (from requests->jupyter-dash==0.3.1->mlfinlab) (2.10)\n",
            "Requirement already satisfied: urllib3!=1.25.0,!=1.25.1,<1.26,>=1.21.1 in /usr/local/lib/python3.6/dist-packages (from requests->jupyter-dash==0.3.1->mlfinlab) (1.24.3)\n",
            "Requirement already satisfied: qdldl in /usr/local/lib/python3.6/dist-packages (from osqp>=0.4.1->cvxpy==1.1.1->mlfinlab) (0.1.5.post0)\n",
            "Requirement already satisfied: google-auth-oauthlib<0.5,>=0.4.1 in /usr/local/lib/python3.6/dist-packages (from tensorboard<2.3.0,>=2.2.0->tensorflow==2.2.1->mlfinlab) (0.4.2)\n",
            "Requirement already satisfied: markdown>=2.6.8 in /usr/local/lib/python3.6/dist-packages (from tensorboard<2.3.0,>=2.2.0->tensorflow==2.2.1->mlfinlab) (3.3.3)\n",
            "Requirement already satisfied: google-auth<2,>=1.6.3 in /usr/local/lib/python3.6/dist-packages (from tensorboard<2.3.0,>=2.2.0->tensorflow==2.2.1->mlfinlab) (1.24.0)\n",
            "Requirement already satisfied: tensorboard-plugin-wit>=1.6.0 in /usr/local/lib/python3.6/dist-packages (from tensorboard<2.3.0,>=2.2.0->tensorflow==2.2.1->mlfinlab) (1.8.0)\n",
            "Requirement already satisfied: MarkupSafe>=0.23 in /usr/local/lib/python3.6/dist-packages (from Jinja2>=2.10.1->Flask>=1.0.2->dash==1.14.0->mlfinlab) (1.1.1)\n",
            "Requirement already satisfied: ipython-genutils in /usr/local/lib/python3.6/dist-packages (from traitlets>=4.2->ipython->jupyter-dash==0.3.1->mlfinlab) (0.2.0)\n",
            "Requirement already satisfied: ptyprocess>=0.5 in /usr/local/lib/python3.6/dist-packages (from pexpect; sys_platform != \"win32\"->ipython->jupyter-dash==0.3.1->mlfinlab) (0.7.0)\n",
            "Requirement already satisfied: wcwidth in /usr/local/lib/python3.6/dist-packages (from prompt-toolkit<2.0.0,>=1.0.4->ipython->jupyter-dash==0.3.1->mlfinlab) (0.2.5)\n",
            "Requirement already satisfied: jupyter-core>=4.6.0 in /usr/local/lib/python3.6/dist-packages (from jupyter-client->ipykernel->jupyter-dash==0.3.1->mlfinlab) (4.7.1)\n",
            "Requirement already satisfied: pyzmq>=13 in /usr/local/lib/python3.6/dist-packages (from jupyter-client->ipykernel->jupyter-dash==0.3.1->mlfinlab) (22.0.2)\n",
            "Requirement already satisfied: requests-oauthlib>=0.7.0 in /usr/local/lib/python3.6/dist-packages (from google-auth-oauthlib<0.5,>=0.4.1->tensorboard<2.3.0,>=2.2.0->tensorflow==2.2.1->mlfinlab) (1.3.0)\n",
            "Requirement already satisfied: importlib-metadata; python_version < \"3.8\" in /usr/local/lib/python3.6/dist-packages (from markdown>=2.6.8->tensorboard<2.3.0,>=2.2.0->tensorflow==2.2.1->mlfinlab) (3.4.0)\n",
            "Requirement already satisfied: cachetools<5.0,>=2.0.0 in /usr/local/lib/python3.6/dist-packages (from google-auth<2,>=1.6.3->tensorboard<2.3.0,>=2.2.0->tensorflow==2.2.1->mlfinlab) (4.2.1)\n",
            "Requirement already satisfied: rsa<5,>=3.1.4; python_version >= \"3.6\" in /usr/local/lib/python3.6/dist-packages (from google-auth<2,>=1.6.3->tensorboard<2.3.0,>=2.2.0->tensorflow==2.2.1->mlfinlab) (4.7)\n",
            "Requirement already satisfied: pyasn1-modules>=0.2.1 in /usr/local/lib/python3.6/dist-packages (from google-auth<2,>=1.6.3->tensorboard<2.3.0,>=2.2.0->tensorflow==2.2.1->mlfinlab) (0.2.8)\n",
            "Requirement already satisfied: oauthlib>=3.0.0 in /usr/local/lib/python3.6/dist-packages (from requests-oauthlib>=0.7.0->google-auth-oauthlib<0.5,>=0.4.1->tensorboard<2.3.0,>=2.2.0->tensorflow==2.2.1->mlfinlab) (3.1.0)\n",
            "Requirement already satisfied: typing-extensions>=3.6.4; python_version < \"3.8\" in /usr/local/lib/python3.6/dist-packages (from importlib-metadata; python_version < \"3.8\"->markdown>=2.6.8->tensorboard<2.3.0,>=2.2.0->tensorflow==2.2.1->mlfinlab) (3.7.4.3)\n",
            "Requirement already satisfied: zipp>=0.5 in /usr/local/lib/python3.6/dist-packages (from importlib-metadata; python_version < \"3.8\"->markdown>=2.6.8->tensorboard<2.3.0,>=2.2.0->tensorflow==2.2.1->mlfinlab) (3.4.0)\n",
            "Requirement already satisfied: pyasn1>=0.1.3 in /usr/local/lib/python3.6/dist-packages (from rsa<5,>=3.1.4; python_version >= \"3.6\"->google-auth<2,>=1.6.3->tensorboard<2.3.0,>=2.2.0->tensorflow==2.2.1->mlfinlab) (0.4.8)\n",
            "Building wheels for collected packages: dash-bootstrap-components, cvxpy\n",
            "  Building wheel for dash-bootstrap-components (PEP 517) ... \u001b[?25l\u001b[?25hdone\n",
            "  Created wheel for dash-bootstrap-components: filename=dash_bootstrap_components-0.10.3-cp36-none-any.whl size=179484 sha256=e1ae3752829065739446bf242e9c0a8b33a5a80a2873ca12e927c01ee47bccb0\n",
            "  Stored in directory: /root/.cache/pip/wheels/c0/96/96/1900eafa8fba572ad4f539891d37e37a480c0b045bf92df243\n",
            "  Building wheel for cvxpy (PEP 517) ... \u001b[?25l\u001b[?25hdone\n",
            "  Created wheel for cvxpy: filename=cvxpy-1.1.1-cp36-cp36m-linux_x86_64.whl size=2654208 sha256=1f7d5d579d53be29492a3cc251aeb333824015420019e4acb7f6b8af01b7d191\n",
            "  Stored in directory: /root/.cache/pip/wheels/06/db/59/b5af93d86703e0903b9b94ccc300ac70daf9d273f13e6c0350\n",
            "Successfully built dash-bootstrap-components cvxpy\n",
            "Building wheels for collected packages: dash, dash-cytoscape, dash-renderer, dash-core-components, dash-html-components, dash-table\n",
            "  Building wheel for dash (setup.py) ... \u001b[?25l\u001b[?25hdone\n",
            "  Created wheel for dash: filename=dash-1.14.0-cp36-none-any.whl size=80129 sha256=bbe1661d9abe3932d201a7a8f4660ded6dcf906465371befe667b4ac40a94560\n",
            "  Stored in directory: /root/.cache/pip/wheels/1d/54/0b/e846f762d47e8abc9234419822d013dfb2ccf957b48e411dc6\n",
            "  Building wheel for dash-cytoscape (setup.py) ... \u001b[?25l\u001b[?25hdone\n",
            "  Created wheel for dash-cytoscape: filename=dash_cytoscape-0.2.0-cp36-none-any.whl size=3608257 sha256=86d12c3e94d0d95bd4acd44073b9716bcf5da682e3186a666944c813cc582a07\n",
            "  Stored in directory: /root/.cache/pip/wheels/4f/1d/23/ab865d134a3af49104ec463cb6b4b8637ce6b763c71d285055\n",
            "  Building wheel for dash-renderer (setup.py) ... \u001b[?25l\u001b[?25hdone\n",
            "  Created wheel for dash-renderer: filename=dash_renderer-1.6.0-cp36-none-any.whl size=1182220 sha256=1a1046d51587bc3c205d51ddf5c5f8656d236c4332f3b8b612e593182c0a3030\n",
            "  Stored in directory: /root/.cache/pip/wheels/2a/de/21/8774fe1ae2271c4747c55c5bcd3e914302a7a6e55a77d866f2\n",
            "  Building wheel for dash-core-components (setup.py) ... \u001b[?25l\u001b[?25hdone\n",
            "  Created wheel for dash-core-components: filename=dash_core_components-1.10.2-cp36-none-any.whl size=3457324 sha256=840a961777ca9ef78613f3d7607854b10ecdf560219d3472da44cad13058d4e8\n",
            "  Stored in directory: /root/.cache/pip/wheels/2a/38/71/0c7e350a8280f6c94a2024a4d16ba905dd2a86ed2aa4a093e3\n",
            "  Building wheel for dash-html-components (setup.py) ... \u001b[?25l\u001b[?25hdone\n",
            "  Created wheel for dash-html-components: filename=dash_html_components-1.0.3-cp36-none-any.whl size=427303 sha256=05bf045f5541dd881a7b371dda3c7ca3fad6bdf389c0352241ed263e90981d27\n",
            "  Stored in directory: /root/.cache/pip/wheels/22/c0/79/ef4c2b20a23dc8457ae75c3da5f63163db213d86e13e00fe26\n",
            "  Building wheel for dash-table (setup.py) ... \u001b[?25l\u001b[?25hdone\n",
            "  Created wheel for dash-table: filename=dash_table-4.9.0-cp36-none-any.whl size=1780769 sha256=e5d8b9241e0f50f729cb48866a17ca2e43a9b3fcf222403434d4fb08310a4b5a\n",
            "  Stored in directory: /root/.cache/pip/wheels/f6/99/e4/a3af0a6f2d07ace02dd25984c08294d2749818c38f44d55338\n",
            "Successfully built dash dash-cytoscape dash-renderer dash-core-components dash-html-components dash-table\n",
            "\u001b[31mERROR: pynndescent 0.5.1 has requirement numba>=0.51.2, but you'll have numba 0.49.1 which is incompatible.\u001b[0m\n",
            "\u001b[31mERROR: google-colab 1.0.0 has requirement pandas~=1.1.0; python_version >= \"3.0\", but you'll have pandas 1.0.4 which is incompatible.\u001b[0m\n",
            "\u001b[31mERROR: datascience 0.10.6 has requirement folium==0.2.1, but you'll have folium 0.8.3 which is incompatible.\u001b[0m\n",
            "\u001b[31mERROR: albumentations 0.1.12 has requirement imgaug<0.2.7,>=0.2.5, but you'll have imgaug 0.2.9 which is incompatible.\u001b[0m\n",
            "Installing collected packages: threadpoolctl, numpy, scikit-learn, brotli, flask-compress, dash-renderer, dash-core-components, dash-html-components, dash-table, dash, dash-bootstrap-components, pandas, ansi2html, jupyter-dash, matplotlib, POT, dash-cytoscape, networkx, getmac, cvxpy, statsmodels, llvmlite, numba, tensorflow-estimator, tensorboard, tensorflow, analytics-python, mlfinlab\n",
            "  Found existing installation: numpy 1.19.5\n",
            "    Uninstalling numpy-1.19.5:\n",
            "      Successfully uninstalled numpy-1.19.5\n",
            "  Found existing installation: scikit-learn 0.22.2.post1\n",
            "    Uninstalling scikit-learn-0.22.2.post1:\n",
            "      Successfully uninstalled scikit-learn-0.22.2.post1\n",
            "  Found existing installation: pandas 1.1.5\n",
            "    Uninstalling pandas-1.1.5:\n",
            "      Successfully uninstalled pandas-1.1.5\n",
            "  Found existing installation: matplotlib 3.2.2\n",
            "    Uninstalling matplotlib-3.2.2:\n",
            "      Successfully uninstalled matplotlib-3.2.2\n",
            "  Found existing installation: networkx 2.5\n",
            "    Uninstalling networkx-2.5:\n",
            "      Successfully uninstalled networkx-2.5\n",
            "  Found existing installation: cvxpy 1.0.31\n",
            "    Uninstalling cvxpy-1.0.31:\n",
            "      Successfully uninstalled cvxpy-1.0.31\n",
            "  Found existing installation: statsmodels 0.10.2\n",
            "    Uninstalling statsmodels-0.10.2:\n",
            "      Successfully uninstalled statsmodels-0.10.2\n",
            "  Found existing installation: llvmlite 0.34.0\n",
            "    Uninstalling llvmlite-0.34.0:\n",
            "      Successfully uninstalled llvmlite-0.34.0\n",
            "  Found existing installation: numba 0.51.2\n",
            "    Uninstalling numba-0.51.2:\n",
            "      Successfully uninstalled numba-0.51.2\n",
            "  Found existing installation: tensorflow-estimator 2.4.0\n",
            "    Uninstalling tensorflow-estimator-2.4.0:\n",
            "      Successfully uninstalled tensorflow-estimator-2.4.0\n",
            "  Found existing installation: tensorboard 2.4.1\n",
            "    Uninstalling tensorboard-2.4.1:\n",
            "      Successfully uninstalled tensorboard-2.4.1\n",
            "  Found existing installation: tensorflow 2.4.1\n",
            "    Uninstalling tensorflow-2.4.1:\n",
            "      Successfully uninstalled tensorflow-2.4.1\n",
            "Successfully installed POT-0.7.0 analytics-python-1.2.9 ansi2html-1.6.0 brotli-1.0.9 cvxpy-1.1.1 dash-1.14.0 dash-bootstrap-components-0.10.3 dash-core-components-1.10.2 dash-cytoscape-0.2.0 dash-html-components-1.0.3 dash-renderer-1.6.0 dash-table-4.9.0 flask-compress-1.8.0 getmac-0.8.2 jupyter-dash-0.3.1 llvmlite-0.32.1 matplotlib-3.2.1 mlfinlab-0.15.3 networkx-2.4 numba-0.49.1 numpy-1.18.5 pandas-1.0.4 scikit-learn-0.23.1 statsmodels-0.11.1 tensorboard-2.2.2 tensorflow-2.2.1 tensorflow-estimator-2.2.0 threadpoolctl-2.1.0\n"
          ],
          "name": "stdout"
        },
        {
          "output_type": "display_data",
          "data": {
            "application/vnd.colab-display-data+json": {
              "pip_warning": {
                "packages": [
                  "matplotlib",
                  "mpl_toolkits",
                  "numpy",
                  "pandas",
                  "sklearn"
                ]
              }
            }
          },
          "metadata": {
            "tags": []
          }
        }
      ]
    },
    {
      "cell_type": "code",
      "metadata": {
        "id": "ZA51_StFsmU_"
      },
      "source": [
        "import mlfinlab"
      ],
      "execution_count": null,
      "outputs": []
    },
    {
      "cell_type": "code",
      "metadata": {
        "id": "_yMQMpMCsnxA"
      },
      "source": [
        "from mlfinlab import backtests,feature_importance"
      ],
      "execution_count": null,
      "outputs": []
    },
    {
      "cell_type": "code",
      "metadata": {
        "id": "O6wPWE-zteJE"
      },
      "source": [
        "feature_importance.ClassificationModelFingerprint()"
      ],
      "execution_count": null,
      "outputs": []
    }
  ]
}